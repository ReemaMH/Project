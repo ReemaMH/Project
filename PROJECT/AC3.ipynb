{
 "cells": [
  {
   "cell_type": "code",
   "execution_count": 5,
   "metadata": {},
   "outputs": [
    {
     "ename": "SyntaxError",
     "evalue": "invalid syntax (<ipython-input-5-dc2dd581e248>, line 1)",
     "output_type": "error",
     "traceback": [
      "\u001b[1;36m  File \u001b[1;32m\"<ipython-input-5-dc2dd581e248>\"\u001b[1;36m, line \u001b[1;32m1\u001b[0m\n\u001b[1;33m    AC3 ALGORITHIM\u001b[0m\n\u001b[1;37m        ^\u001b[0m\n\u001b[1;31mSyntaxError\u001b[0m\u001b[1;31m:\u001b[0m invalid syntax\n"
     ]
    }
   ],
   "source": [
    "## AC3 ALGORITHIM\n",
    "AC-3 operates on constraints, variables, and the variables' domains (scopes). ... AC-3 proceeds\n",
    "by examining the arcs between pairs of variables (x, y). It removes those values from the domain of x which aren't\n",
    "consistent with the constraints between x and y.💢💯"
   ]
  },
  {
   "cell_type": "code",
   "execution_count": null,
   "metadata": {},
   "outputs": [],
   "source": [
    "# IMPLEMENTATION OF AC3 ALGORITHM"
   ]
  },
  {
   "cell_type": "code",
   "execution_count": 2,
   "metadata": {},
   "outputs": [],
   "source": [
    "digits =  cols = \"123456789\"\n",
    "rows = \"ABCDEFGHI\"\n",
    "\n",
    "\n",
    "#FINDING THE CROSS PRODUCT OF TWO SETS \n",
    "def cross(A, B):\n",
    "\treturn [a + b for a in A for b in B]\n",
    "\n",
    "squares = cross(rows, cols)"
   ]
  },
  {
   "cell_type": "code",
   "execution_count": 3,
   "metadata": {},
   "outputs": [],
   "source": [
    "class csp:\n",
    "\n",
    "#INITIALIZING THE CSP\n",
    "def __init__ (self, domain = digits, grid = \"\"):\n",
    "self.variables = squares\n",
    "self.domain = self.getDict(grid)\n",
    "self.values = self.getDict(grid)\n",
    "\n",
    "\n",
    "''''\n",
    "Unitlist consists of the 27 lists of peers \n",
    "Units is a dictionary consisting of the keys and the corresponding lists of peers \n",
    "Peers is a dictionary consisting of the 81 keys and the corresponding set of 20 peers \n",
    "Constraints denote the various all-different constraints between the variables \n",
    "'''\n",
    "\n",
    "self.unitlist = ([cross(rows, c) for c in cols] +\n",
    "             [cross(r, cols) for r in rows] +\n",
    "             [cross(rs, cs) for rs in ('ABC','DEF','GHI') for cs in ('123','456','789')])\n",
    "\n",
    "self.units = dict((s, [u for u in self.unitlist if s in u]) for s in squares)\n",
    "self.peers = dict((s, set(sum(self.units[s],[]))-set([s])) for s in squares)\n",
    "self.constraints = {(variable, peer) for variable in self.variables for peer in self.peers[variable]}\n",
    "\n",
    "\n",
    "\n",
    "\n",
    "#GETTING THE STRING AS INPUT AND RETURNING THE CORRESPONDING DICTIONARY\n",
    "def getDict(self, grid=\"\"):\n",
    "i = 0\n",
    "values = dict()\n",
    "for cell in self.variables:\n",
    "if grid[i]!='0':\n",
    "values[cell] = grid[i]\n",
    "else:\n",
    "values[cell] = digits\n",
    "i = i + 1\n",
    "return values"
   ]
  },
  {
   "cell_type": "code",
   "execution_count": 6,
   "metadata": {},
   "outputs": [],
   "source": [
    "# APPLYING AC3 ALGORITHM"
   ]
  },
  {
   "cell_type": "code",
   "execution_count": 4,
   "metadata": {},
   "outputs": [],
   "source": [
    "\n",
    "\n",
    "import queue\n",
    "\n",
    "\n",
    "#THE MAIN AC-3 ALGORITHM\n",
    "def AC3(csp):\n",
    "q = queue.Queue()\n",
    "\n",
    "for arc in csp.constraints:\n",
    "q.put(arc)\n",
    "\n",
    "i = 0\n",
    "while not q.empty():\n",
    "(Xi, Xj) = q.get()\n",
    "\n",
    "i = i + 1 \n",
    "\n",
    "if Revise(csp, Xi, Xj):\n",
    "if len(csp.values[Xi]) == 0:\n",
    "return False\n",
    "\n",
    "for Xk in (csp.peers[Xi] - set(Xj)):\n",
    "q.put((Xk, Xi))\n",
    "\n",
    "#display(csp.values)\n",
    "return True \n",
    "\n",
    "\n",
    "\n",
    "#WORKING OF THE REVISE ALGORITHM\n",
    "def Revise(csp, Xi, Xj):\n",
    "revised = False\n",
    "values = set(csp.values[Xi])\n",
    "\n",
    "for x in values:\n",
    "if not isconsistent(csp, x, Xi, Xj):\n",
    "csp.values[Xi] = csp.values[Xi].replace(x, '')\n",
    "revised = True \n",
    "\n",
    "return revised \n",
    "\n",
    "\n",
    "\n",
    "#CHECKS IF THE GIVEN ASSIGNMENT IS CONSISTENT\n",
    "def isconsistent(csp, x, Xi, Xj):\n",
    "for y in csp.values[Xj]:\n",
    "if Xj in csp.peers[Xi] and y!=x:\n",
    "return True\n",
    "\n",
    "return False\n",
    "\n",
    "\n",
    "#DISPLAYS THE SUDOKU IN THE GRID FORMAT\n",
    "def display(values):\n",
    "    for r in rows:\n",
    "        if r in 'DG':\n",
    "            print (\"------------------------------------------------------------------------------\")\n",
    "            for c in cols:\n",
    "                if c in '47':\n",
    "                    print (' | ', values[r+c], ' ',end=' ')\n",
    "    else:\n",
    "        print (values[r+c], ' ',end=' ')\n",
    "        print (end='\\n')\n",
    "\n",
    "        \n",
    "\n",
    "#CHECKS IF THE SUDOKU IS COMPLETE OR NOT\n",
    "def isComplete(csp):\n",
    "\tfor variable in squares:\n",
    "\t\tif len(csp.values[variable])>1:\n",
    "\t\t\treturn False\n",
    "\treturn True\n",
    "\n",
    "\n",
    "#WRITES THE SOLVED SUDOKU IN THE FORM OF A STRING\n",
    "def write(values):\n",
    "\toutput = \"\"\n",
    "\tfor variable in squares:\n",
    "\t\toutput = output + values[variable]\n",
    "\treturn output"
   ]
  },
  {
   "cell_type": "code",
   "execution_count": null,
   "metadata": {},
   "outputs": [],
   "source": []
  }
 ],
 "metadata": {
  "kernelspec": {
   "display_name": "Python 3",
   "language": "python",
   "name": "python3"
  },
  "language_info": {
   "codemirror_mode": {
    "name": "ipython",
    "version": 3
   },
   "file_extension": ".py",
   "mimetype": "text/x-python",
   "name": "python",
   "nbconvert_exporter": "python",
   "pygments_lexer": "ipython3",
   "version": "3.8.5"
  }
 },
 "nbformat": 4,
 "nbformat_minor": 4
}
