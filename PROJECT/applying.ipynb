{
 "cells": [
  {
   "cell_type": "code",
   "execution_count": null,
   "metadata": {},
   "outputs": [],
   "source": [
    "from AC3 import csp\n",
    "from Backtrack import *\n",
    "import time \n",
    "\n",
    "#THE MAIN FUNCTION GOES HERE\n",
    "if __name__ == \"__main__\":\n",
    "    '''\n",
    "    The function takes arguments from commandline\n",
    "    Argument 1 - Python file name \n",
    "    Argument 2 - Input String Showing the Sudoku \n",
    "    '''\n",
    "    array = []  \n",
    "    with open(\"sudokus_start.txt\", \"r\") as ins:\n",
    "        for line in ins:\n",
    "            array.append(line)\n",
    "\n",
    "    ins.close()\n",
    "    i = 0\n",
    "    boardno = 0\n",
    "    start = time.time()\n",
    "    f = open(\"output.txt\", \"w\")\n",
    "\n",
    "    for grid in array:\n",
    "        startpuzle = time.time()\n",
    "        boardno =  boardno + 1\n",
    "        sudoku = csp(grid=grid)\n",
    "        solved  = Backtracking_Search(sudoku) \n",
    "        print (\"The board-\", boardno, \" takes \", time.time() - startpuzle, \" seconds\")\n",
    "        if solved!=\"FAILURE\": \n",
    "            f.write(write(solved)+\"\\n\")\n",
    "            i = i + 1\n",
    "    f.close()\n",
    "\n",
    "    print (\"Number of problems solved is: \", i)\n",
    "    print (\"Time taken to solve the puzzles is: \", time.time()-start)"
   ]
  },
  {
   "cell_type": "code",
   "execution_count": null,
   "metadata": {},
   "outputs": [],
   "source": []
  }
 ],
 "metadata": {
  "kernelspec": {
   "display_name": "Python 3",
   "language": "python",
   "name": "python3"
  },
  "language_info": {
   "codemirror_mode": {
    "name": "ipython",
    "version": 3
   },
   "file_extension": ".py",
   "mimetype": "text/x-python",
   "name": "python",
   "nbconvert_exporter": "python",
   "pygments_lexer": "ipython3",
   "version": "3.8.5"
  }
 },
 "nbformat": 4,
 "nbformat_minor": 4
}
